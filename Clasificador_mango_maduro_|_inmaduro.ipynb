{
  "nbformat": 4,
  "nbformat_minor": 0,
  "metadata": {
    "colab": {
      "provenance": [],
      "authorship_tag": "ABX9TyP0WGT3aTUucHoBxID5oW8R",
      "include_colab_link": true
    },
    "kernelspec": {
      "name": "python3",
      "display_name": "Python 3"
    },
    "language_info": {
      "name": "python"
    }
  },
  "cells": [
    {
      "cell_type": "markdown",
      "metadata": {
        "id": "view-in-github",
        "colab_type": "text"
      },
      "source": [
        "<a href=\"https://colab.research.google.com/github/FabianScape/Conversor-de-unidades/blob/main/Clasificador_mango_maduro_%7C_inmaduro.ipynb\" target=\"_parent\"><img src=\"https://colab.research.google.com/assets/colab-badge.svg\" alt=\"Open In Colab\"/></a>"
      ]
    },
    {
      "cell_type": "code",
      "metadata": {
        "id": "IkfUii9l45Ex"
      },
      "source": [
        "#Crear las carpetas para subir las imagenes\n",
        "!mkdir mango_maduro\n",
        "!mkdir mango_inmaduro"
      ],
      "execution_count": null,
      "outputs": []
    },
    {
      "cell_type": "code",
      "metadata": {
        "id": "VmWHDM4N6BXT"
      },
      "source": [
        "#Entrar en cada carpeta y descomprimir el archivo zip\n",
        "%cd mango_maduro\n",
        "!unzip mango_maduro.zip\n",
        "%cd ..\n",
        "\n",
        "%cd mango_inmaduro\n",
        "!unzip mango_inmaduro.zip\n",
        "%cd .."
      ],
      "execution_count": null,
      "outputs": []
    },
    {
      "cell_type": "code",
      "metadata": {
        "id": "8C8wQOFN6ZAS"
      },
      "source": [
        "#Borrar los archivo ZIP\n",
        "!rm -rf /content/mango_maduro/mango_maduro.zip\n",
        "!rm -rf /content/mango_inmaduro/mango_inmaduro.zip"
      ],
      "execution_count": null,
      "outputs": []
    },
    {
      "cell_type": "code",
      "metadata": {
        "id": "6nfH5aTP6js8"
      },
      "source": [
        "#Mostrar cuantas imagenes tengo de cada categoria\n",
        "!ls /content/mango_maduro | wc -l #161\n",
        "!ls /content/mango_inmaduro | wc -l #83"
      ],
      "execution_count": null,
      "outputs": []
    },
    {
      "cell_type": "code",
      "metadata": {
        "id": "Y5XvYcwH6vGG"
      },
      "source": [
        "#Mostrar algunas imagenes con pyplot\n",
        "import os\n",
        "import matplotlib.pyplot as plt\n",
        "import matplotlib.image as mpimg\n",
        "\n",
        "plt.figure(figsize=(15,15))\n",
        "\n",
        "carpeta = '/content/mango_maduro'\n",
        "imagenes = os.listdir(carpeta)\n",
        "\n",
        "for i, nombreimg in enumerate(imagenes[:25]):\n",
        "  plt.subplot(5,5,i+1)\n",
        "  imagen = mpimg.imread(carpeta + '/' + nombreimg)\n",
        "  plt.imshow(imagen)"
      ],
      "execution_count": null,
      "outputs": []
    },
    {
      "cell_type": "code",
      "metadata": {
        "id": "cDjMjyGi7agS"
      },
      "source": [
        "#Crear carpetas para hacer el set de datos\n",
        "\n",
        "!mkdir dataset\n",
        "!mkdir dataset/mango_maduro\n",
        "!mkdir dataset/mango_inmaduro"
      ],
      "execution_count": null,
      "outputs": []
    },
    {
      "cell_type": "code",
      "metadata": {
        "id": "box5_qnJ7l5q"
      },
      "source": [
        "#Copiar imagenes que subimos a carpetas del dataset\n",
        "#Limitar para que todos tengan la misma cantidad de imagenes\n",
        "#maximo 83 (el num. menor de imagenes que subi)\n",
        "\n",
        "import shutil\n",
        "\n",
        "carpeta_fuente = '/content/mango_maduro'\n",
        "carpeta_destino = '/content/dataset/mango_maduro'\n",
        "\n",
        "imagenes = os.listdir(carpeta_fuente)\n",
        "\n",
        "for i, nombreimg in enumerate(imagenes):\n",
        "  if i < 83:\n",
        "    #Copia de la carpeta fuente a la destino\n",
        "    shutil.copy(carpeta_fuente + '/' + nombreimg, carpeta_destino + '/' + nombreimg)"
      ],
      "execution_count": null,
      "outputs": []
    },
    {
      "cell_type": "code",
      "metadata": {
        "id": "0oKaAjei8UoR"
      },
      "source": [
        "carpeta_fuente = '/content/mango_inmaduro'\n",
        "carpeta_destino = '/content/dataset/mango_inmaduro'\n",
        "\n",
        "imagenes = os.listdir(carpeta_fuente)\n",
        "\n",
        "for i, nombreimg in enumerate(imagenes):\n",
        "  if i < 83:\n",
        "    #Copia de la carpeta fuente a la destino\n",
        "    shutil.copy(carpeta_fuente + '/' + nombreimg, carpeta_destino + '/' + nombreimg)"
      ],
      "execution_count": null,
      "outputs": []
    },
    {
      "cell_type": "code",
      "metadata": {
        "id": "v_KRXzdN8fjX"
      },
      "source": [
        "#Mostrar cuantas imagenes tengo de cada categoria en el dataset\n",
        "!ls /content/dataset/mango_maduro | wc -l #171\n",
        "!ls /content/dataset/mango_inmaduro | wc -l #60"
      ],
      "execution_count": null,
      "outputs": []
    },
    {
      "cell_type": "code",
      "metadata": {
        "id": "LtP_w0o_93Kg"
      },
      "source": [
        "#Aumento de datos con ImageDataGenerator\n",
        "from tensorflow.keras.preprocessing.image import ImageDataGenerator\n",
        "import numpy as np\n",
        "\n",
        "#Crear el dataset generador\n",
        "datagen = ImageDataGenerator(\n",
        "    rescale=1. / 255,\n",
        "    rotation_range = 30,\n",
        "    width_shift_range = 0.25,\n",
        "    height_shift_range = 0.25,\n",
        "    shear_range = 15,\n",
        "    zoom_range = [0.5, 1.5],\n",
        "    validation_split=0.2 #20% para pruebas\n",
        ")\n",
        "\n",
        "#Generadores para sets de entrenamiento y pruebas\n",
        "data_gen_entrenamiento = datagen.flow_from_directory('/content/dataset', target_size=(224,224),\n",
        "                                                     batch_size=32, shuffle=True, subset='training')\n",
        "data_gen_pruebas = datagen.flow_from_directory('/content/dataset', target_size=(224,224),\n",
        "                                                     batch_size=32, shuffle=True, subset='validation')\n",
        "\n",
        "#Imprimir 10 imagenes del generador de entrenamiento\n",
        "for imagen, etiqueta in data_gen_entrenamiento:\n",
        "  for i in range(10):\n",
        "    plt.subplot(2,5,i+1)\n",
        "    plt.xticks([])\n",
        "    plt.yticks([])\n",
        "    plt.imshow(imagen[i])\n",
        "  break\n",
        "plt.show()\n"
      ],
      "execution_count": null,
      "outputs": []
    },
    {
      "cell_type": "code",
      "metadata": {
        "id": "9-XXSY6Z_1YW"
      },
      "source": [
        "import tensorflow as tf\n",
        "import tensorflow_hub as hub\n",
        "\n",
        "url = \"https://tfhub.dev/google/tf2-preview/mobilenet_v2/feature_vector/4\"\n",
        "mobilenetv2 = hub.KerasLayer(url, input_shape=(224,224,3))"
      ],
      "execution_count": null,
      "outputs": []
    },
    {
      "cell_type": "code",
      "metadata": {
        "id": "Dvv6GVPpATt8"
      },
      "source": [
        "#Congelar el modelo descargado\n",
        "mobilenetv2.trainable = False"
      ],
      "execution_count": null,
      "outputs": []
    },
    {
      "cell_type": "code",
      "metadata": {
        "id": "PmDIA3FKAXpz"
      },
      "source": [
        "modelo = tf.keras.Sequential([\n",
        "    mobilenetv2,\n",
        "    tf.keras.layers.Dense(2, activation='softmax') #numero de unidades\n",
        "])"
      ],
      "execution_count": null,
      "outputs": []
    },
    {
      "cell_type": "code",
      "metadata": {
        "id": "_RNaQGnWAjpQ"
      },
      "source": [
        "modelo.summary()"
      ],
      "execution_count": null,
      "outputs": []
    },
    {
      "cell_type": "code",
      "metadata": {
        "id": "7UfMugXKApYe"
      },
      "source": [
        "#Compilar como siempre\n",
        "modelo.compile(\n",
        "    optimizer='adam',\n",
        "    loss='categorical_crossentropy',\n",
        "    metrics=['accuracy']\n",
        ")"
      ],
      "execution_count": null,
      "outputs": []
    },
    {
      "cell_type": "code",
      "metadata": {
        "id": "vvIFkP-7Axnp"
      },
      "source": [
        "#Entrenar el modelo\n",
        "EPOCAS = 50\n",
        "\n",
        "historial = modelo.fit(\n",
        "    data_gen_entrenamiento, epochs=EPOCAS, batch_size=32,\n",
        "    validation_data=data_gen_pruebas\n",
        ")"
      ],
      "execution_count": null,
      "outputs": []
    },
    {
      "cell_type": "code",
      "metadata": {
        "id": "WhM0WbPAFVLZ"
      },
      "source": [
        "#Graficas de precisión\n",
        "acc = historial.history['accuracy']\n",
        "val_acc = historial.history['val_accuracy']\n",
        "\n",
        "loss = historial.history['loss']\n",
        "val_loss = historial.history['val_loss']\n",
        "\n",
        "rango_epocas = range(50)\n",
        "\n",
        "plt.figure(figsize=(8,8))\n",
        "plt.subplot(1,2,1)\n",
        "plt.plot(rango_epocas, acc, label='Precisión Entrenamiento')\n",
        "plt.plot(rango_epocas, val_acc, label='Precisión Pruebas')\n",
        "plt.legend(loc='lower right')\n",
        "plt.title('Precisión de entrenamiento y pruebas')\n",
        "\n",
        "plt.subplot(1,2,2)\n",
        "plt.plot(rango_epocas, loss, label='Pérdida de entrenamiento')\n",
        "plt.plot(rango_epocas, val_loss, label='Pérdida de pruebas')\n",
        "plt.legend(loc='upper right')\n",
        "plt.title('Pérdida de entrenamiento y pruebas')\n",
        "plt.show()"
      ],
      "execution_count": null,
      "outputs": []
    },
    {
      "cell_type": "code",
      "metadata": {
        "id": "r0Hng_7nGMXT"
      },
      "source": [
        "#Categorizar una imagen de internet\n",
        "from PIL import Image\n",
        "import requests\n",
        "from io import BytesIO\n",
        "import cv2\n",
        "\n",
        "def categorizar(url):\n",
        "  respuesta = requests.get(url)\n",
        "  img = Image.open(BytesIO(respuesta.content))\n",
        "  img = np.array(img).astype(float)/255\n",
        "\n",
        "  img = cv2.resize(img, (224,224))\n",
        "  prediccion = modelo.predict(img.reshape(0, 224, 224, 2))\n",
        "  return np.argmax(prediccion[0], axis=-1)\n"
      ],
      "execution_count": null,
      "outputs": []
    },
    {
      "cell_type": "code",
      "metadata": {
        "id": "ZCKEHF08Hh-D"
      },
      "source": [
        "#0 = cuchara, 1 = cuchillo, 2 = tenedor\n",
        "url = 'https://www.frutality.es/wp-content/uploads/recorte.png' #debe ser 2\n",
        "prediccion = categorizar (url)\n",
        "print(prediccion)"
      ],
      "execution_count": null,
      "outputs": []
    },
    {
      "cell_type": "code",
      "metadata": {
        "id": "TD6PPPWPeGEb"
      },
      "source": [
        "#Crear la carpeta para exportarla a TF Serving\n",
        "!mkdir -p carpeta_salida/modelo_cocina/1"
      ],
      "execution_count": null,
      "outputs": []
    },
    {
      "cell_type": "code",
      "metadata": {
        "id": "MbBmOwVbeKzs"
      },
      "source": [
        "#Guardar el modelo en formato SavedModel\n",
        "modelo.save('carpeta_salida/modelo_cocina/1')"
      ],
      "execution_count": null,
      "outputs": []
    },
    {
      "cell_type": "code",
      "metadata": {
        "id": "b-CGKz9neN40"
      },
      "source": [
        "#Hacerlo un zip para bajarlo y usarlo en otro lado\n",
        "!zip -r modelo_cocina.zip /content/carpeta_salida/modelo_cocina/"
      ],
      "execution_count": null,
      "outputs": []
    }
  ]
}